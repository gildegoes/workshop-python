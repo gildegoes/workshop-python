{
 "cells": [
  {
   "cell_type": "markdown",
   "metadata": {},
   "source": [
    "## Introduction to Python\n"
   ]
  },
  {
   "cell_type": "markdown",
   "metadata": {},
   "source": [
    "### A Workshop by Dr. Gil de Góes\n",
    "College of Business - University of New Haven\n",
    "September 15, 2020"
   ]
  },
  {
   "cell_type": "markdown",
   "metadata": {},
   "source": [
    "This is my first Python program !"
   ]
  },
  {
   "cell_type": "code",
   "execution_count": 1,
   "metadata": {},
   "outputs": [
    {
     "name": "stdout",
     "output_type": "stream",
     "text": [
      "35\n"
     ]
    }
   ],
   "source": [
    "a=5\n",
    "b=7\n",
    "c=a*b\n",
    "print(c)"
   ]
  },
  {
   "cell_type": "markdown",
   "metadata": {},
   "source": [
    "### Variables"
   ]
  },
  {
   "cell_type": "markdown",
   "metadata": {},
   "source": [
    "In the above example, a, b and c are variables, referencing specific memory locations holding 5, 7 and 35 respectively.\n",
    "Variables in Python don't have to be declared (as in C programming language).\n",
    "The type of the variable is determined when a value is assigned for the first time.\n",
    "Built-in types includes integers, floats, complex numbers, strings (i.e. text), lists, and Boolean (True, False).\n",
    "Variable names are case sensitive: Pi, pi, and PI are different variables.\n",
    "Variable names containing multiple words can be written in a consistent manner, such as \"camel case\" notation: firstName, customerList, paymentIncludingTax\n"
   ]
  },
  {
   "cell_type": "markdown",
   "metadata": {},
   "source": [
    "#### Examples\n"
   ]
  },
  {
   "cell_type": "code",
   "execution_count": 4,
   "metadata": {},
   "outputs": [
    {
     "name": "stdout",
     "output_type": "stream",
     "text": [
      "19 3.25 Smith True\n"
     ]
    }
   ],
   "source": [
    "age=19\n",
    "gpa=3.25\n",
    "lastName=\"Smith\"\n",
    "fullTime= True\n",
    "print(age, gpa,lastName,fullTime)"
   ]
  },
  {
   "cell_type": "code",
   "execution_count": 6,
   "metadata": {
    "collapsed": true
   },
   "outputs": [],
   "source": [
    "# Your turn: Calculate and print total profit using the formulas below:\n",
    "# price = 7.95\n",
    "# quantity = 240\n",
    "# unitCost= 4.0\n",
    "# fixedCost = 800\n",
    "# totalRevenue is price times quantity\n",
    "# totalCost is fixedCost plus unitCost * quantity\n",
    "# totalProfit is totalRevenue minus totalCost"
   ]
  },
  {
   "cell_type": "markdown",
   "metadata": {},
   "source": [
    "### Lists"
   ]
  },
  {
   "cell_type": "markdown",
   "metadata": {},
   "source": [
    "The most essential variable in Python is a list.\n",
    "A list can contain a mixture of other types as its elements, including integers, floats, strings and even other lists. Elements in a list is placed inside brackets and seperated by commas.\n",
    "First element of a list is indexed as 0.\n",
    "\n"
   ]
  },
  {
   "cell_type": "markdown",
   "metadata": {},
   "source": [
    "#### Examples"
   ]
  },
  {
   "cell_type": "code",
   "execution_count": 10,
   "metadata": {},
   "outputs": [
    {
     "name": "stdout",
     "output_type": "stream",
     "text": [
      "['James Smith']\n",
      "James Smith\n",
      "First working day is Monday\n",
      "['Monday', 'Tuesday', 'Wednesday', 'Thursday', 'Friday', 'Saturday', 'Sunday']\n",
      "Saturday and Sunday are weekend days\n",
      "7\n",
      "Student's record: [19, 3.25, 'Smith', True, ['ACCT2250', 'BANL1100', 'QANL3380']]\n"
     ]
    }
   ],
   "source": [
    "myStudents = []               # empty list\n",
    "myStudents.append(\"James Smith\")    # adding a single element to an existing list. A list is a 'mutable' object.\n",
    "print(myStudents)      # show the contents of the list\n",
    "print(myStudents[0])   # first element is located at index zero, not 1.\n",
    "\n",
    "weekDays=[\"Monday\",\"Tuesday\",\"Wednesday\",\"Thursday\",\"Friday\"]\n",
    "print(\"First working day is\", weekDays[0]) # first element is at zero and last element is at 4.\n",
    "\n",
    "week = weekDays\n",
    "week.extend([\"Saturday\",\"Sunday\"]) # adding multiple elements to a list\n",
    "print(week)\n",
    "print(week[5],\"and\",week[6],\"are weekend days\")\n",
    "\n",
    "numberOfDays=len(week)             # length of a list\n",
    "print(numberOfDays)\n",
    "\n",
    "myMixedList = [19,3.25,\"Smith\",True, [\"ACCT2250\", \"BANL1100\",\"QANL3380\"]]   # a list of different type of elements\n",
    "print(\"Student's record:\",myMixedList)\n",
    "\n"
   ]
  },
  {
   "cell_type": "code",
   "execution_count": 8,
   "metadata": {
    "collapsed": true
   },
   "outputs": [],
   "source": [
    "# your turn:\n",
    "# Create a list to hold even numbers between 1 and 10\n",
    "# Create another list to hold odd numbers between 1 and 10\n",
    "# Multiply 4th element of the even number list by the 2nd element\n",
    "# of the odd list and print the result\n",
    "\n",
    "\n"
   ]
  },
  {
   "cell_type": "markdown",
   "metadata": {},
   "source": [
    "#### Getting Sublists with Slices"
   ]
  },
  {
   "cell_type": "code",
   "execution_count": 9,
   "metadata": {},
   "outputs": [
    {
     "name": "stdout",
     "output_type": "stream",
     "text": [
      "[] ['Monday'] ['Monday', 'Tuesday']\n",
      "['Monday', 'Tuesday', 'Wednesday', 'Thursday', 'Friday']\n",
      "['Saturday', 'Sunday']\n",
      "['Saturday', 'Sunday']\n"
     ]
    }
   ],
   "source": [
    "# Here is the Python approach to slicing lists:\n",
    "# list[startIndex:stopIndex+1]\n",
    "# if no start index is given, it means from zero\n",
    "# if no stop index is given, it means to the end\n",
    "\n",
    "days=[\"Monday\",\"Tuesday\",\"Wednesday\",\"Thursday\",\"Friday\",\"Saturday\",\"Sunday\"]\n",
    "d = days[0:0]             # empty list\n",
    "d1 = days[0:1]            # from beginning to the 1 element\n",
    "d2 = days[0:2]            # from beginning to the 2 element\n",
    "print(d, d1, d2)\n",
    "\n",
    "workDays=days[:5]          # items in the lists from 0 to 5-1=4, Monday through Friday\n",
    "print(workDays)\n",
    "\n",
    "weekend = days[5:]         # from saturday to the end of the list\n",
    "print(weekend)\n",
    "\n",
    "# going backward! Negative indexes\n",
    "# -1 -> sunday\n",
    "# -2 -> saturday\n",
    "weekend = days[-2:]    # from saturday to the end of the list\n",
    "print(weekend)\n",
    "\n",
    "\n",
    "\n"
   ]
  },
  {
   "cell_type": "code",
   "execution_count": 10,
   "metadata": {
    "collapsed": true
   },
   "outputs": [],
   "source": [
    "# Your turn:\n",
    "# Create a list of months and slice only summer months (June-Aug)\n"
   ]
  },
  {
   "cell_type": "markdown",
   "metadata": {},
   "source": [
    "### Tuples"
   ]
  },
  {
   "cell_type": "markdown",
   "metadata": {},
   "source": [
    "Tuples are just like lists except they are \"immutable\", meaning cannot be modified or extended. A list of constants. When creating, use parantheses instead of square brackets."
   ]
  },
  {
   "cell_type": "code",
   "execution_count": 11,
   "metadata": {},
   "outputs": [
    {
     "name": "stdout",
     "output_type": "stream",
     "text": [
      "RGB colors are ('Red', 'Green', 'Blue') and their codes are (1, 2, 3)\n",
      "The type of 'colors' variable is <class 'tuple'>\n",
      "['Red', 'Green', 'Blue', 'Yellow']\n"
     ]
    }
   ],
   "source": [
    "colors=(\"Red\",\"Green\",\"Blue\")\n",
    "colorCodes=(1,2,3)\n",
    "print(\"RGB colors are\", colors,\"and their codes are\",colorCodes)\n",
    "print(\"The type of 'colors' variable is\", type(colors))\n",
    "\n",
    "myColorsList=list(colors)     # a tuple can be converted to a list using list() function\n",
    "myColorsList.append(\"Yellow\")   # add a new color to the list.\n",
    "print(myColorsList)"
   ]
  },
  {
   "cell_type": "markdown",
   "metadata": {},
   "source": [
    "### Dictionaries"
   ]
  },
  {
   "cell_type": "markdown",
   "metadata": {},
   "source": [
    "Dictionaries could be considered string indexed lists. While a list element is accessed by using its numerical index, such as weekDays[2], a dictionary element could be accessed by its key, as in myColorCodes[\"red\"]. When creating dictionaries, key and its corresponding value must be given. This is called a key-value pair.\n",
    "To create a dictionary, use curly braces. When accessing elements in dictionary use, square brackets like lists."
   ]
  },
  {
   "cell_type": "code",
   "execution_count": 11,
   "metadata": {},
   "outputs": [
    {
     "name": "stdout",
     "output_type": "stream",
     "text": [
      "Code for green is: 2\n",
      "{'blue': 3, 'green': 2, 'yellow': 4, 'red': 1}\n"
     ]
    }
   ],
   "source": [
    "myColorCodes= {\"red\":1,\"green\":2,\"blue\":3, \"yellow\": 4}\n",
    "print(\"Code for green is:\", myColorCodes[\"green\"])\n",
    "print(myColorCodes)\n"
   ]
  },
  {
   "cell_type": "code",
   "execution_count": null,
   "metadata": {
    "collapsed": true
   },
   "outputs": [],
   "source": [
    "# Your turn:\n",
    "# Create a dictionary of student standing: freshman -> 1, sophomore -> 2, ..."
   ]
  },
  {
   "cell_type": "markdown",
   "metadata": {},
   "source": [
    "### Control Flow Structures"
   ]
  },
  {
   "cell_type": "markdown",
   "metadata": {},
   "source": [
    "### The if-elif-else statement"
   ]
  },
  {
   "cell_type": "markdown",
   "metadata": {},
   "source": [
    "This is the most common control structure also found in many other programming languages. \n",
    "It has three variations:\n",
    "NOTICE THE INDENTATION !\n",
    "Indentation indicates a code block starts.\n",
    "Also, notice the use of colon\n",
    "\n",
    "------Variant1---------\n",
    "If (this condition is True) :\n",
    "    (Then, do this !)\n",
    "\n",
    "------Variant2---------\n",
    "If (this condition is True) :\n",
    "    (Then, do this !)\n",
    "Else :\n",
    "    (if not, do this!)\n",
    "\n",
    "------Variant3---------   \n",
    "If (this condition is True) :\n",
    "    (Then, do this !)\n",
    "Elif (another condition) :\n",
    "    (if true, do this!)\n",
    "Elif (another condition) :\n",
    "    (if true, do this!)\n",
    "....\n",
    "Else :\n",
    "    (if nothing works, do this!)\n"
   ]
  },
  {
   "cell_type": "markdown",
   "metadata": {},
   "source": [
    "#### Examples"
   ]
  },
  {
   "cell_type": "code",
   "execution_count": 17,
   "metadata": {},
   "outputs": [
    {
     "name": "stdout",
     "output_type": "stream",
     "text": [
      "Go to school!\n",
      "And study harder!\n",
      "And drink lots of coffee!\n",
      "Have fun!\n",
      "Your letter grade is B\n"
     ]
    }
   ],
   "source": [
    "today = \"Monday\"\n",
    "if today == \"Monday\" :             # '==' is the operator to compare equality of two values\n",
    "    print(\"Go to school!\")         # indentation means it is the start of a block of code\n",
    "    print(\"And study harder!\")\n",
    "    print(\"And drink lots of coffee!\")\n",
    "\n",
    "today = \"Saturday\"\n",
    "if today == \"Saturday\" or today == \"Sunday\" :     # 'or' is the operator to check if either statement is True\n",
    "    print(\"Have fun!\")\n",
    "else :\n",
    "    print(\"Go to school!\")         # indentation means it is the start of a block of code\n",
    "    print(\"And study harder!\")\n",
    "    print(\"And drink lots of coffee!\")\n",
    "\n",
    "grade=85\n",
    "if grade < 60 :\n",
    "    print(\"Your letter grade is F\")\n",
    "elif grade <70 :\n",
    "    print(\"Your letter grade is D\")\n",
    "elif grade <80 :\n",
    "    print(\"Your letter grade is C\")\n",
    "elif grade <90 :\n",
    "    print(\"Your letter grade is B\")\n",
    "else :                                    # Else here means we reached the last option\n",
    "    print(\"Your letter grade is A\")\n",
    "    \n"
   ]
  },
  {
   "cell_type": "code",
   "execution_count": null,
   "metadata": {
    "collapsed": true
   },
   "outputs": [],
   "source": [
    "# Your turn:\n",
    "# write the Python code to calculate total payment due amount\n",
    "# totalPaymentDue = quantity * price - discount\n",
    "# if quantity < 100, discount is 0\n",
    "# if quantity is between 100 - 199, discount is $100\n",
    "# if quantity is between 200 - 299, discount is $200\n",
    "# if quantity > 299, discount is $300\n",
    "\n",
    "price = 4.99\n",
    "quantity = 255\n",
    "discount = 0\n",
    "# do the rest below !\n"
   ]
  },
  {
   "cell_type": "markdown",
   "metadata": {},
   "source": [
    "### The while loop"
   ]
  },
  {
   "cell_type": "markdown",
   "metadata": {},
   "source": [
    "The while loop is executed as long as the condition is True.\n"
   ]
  },
  {
   "cell_type": "markdown",
   "metadata": {},
   "source": [
    "while (condition) :\n",
    "      (do this block as long as condition is True)"
   ]
  },
  {
   "cell_type": "code",
   "execution_count": 18,
   "metadata": {},
   "outputs": [
    {
     "name": "stdout",
     "output_type": "stream",
     "text": [
      "Monday\n",
      "Tuesday\n",
      "Wednesday\n",
      "Thursday\n",
      "Friday\n",
      "Saturday\n",
      "Sunday\n"
     ]
    }
   ],
   "source": [
    "k=0\n",
    "days=[\"Monday\",\"Tuesday\",\"Wednesday\",\"Thursday\",\"Friday\",\"Saturday\",\"Sunday\"]\n",
    "while k < 7:\n",
    "    print(days[k])\n",
    "    k=k+1                     # ATTENTION: if you forget to increase k, it will loop infinitely !!! In this case, press ESC key\n",
    "    \n"
   ]
  },
  {
   "cell_type": "markdown",
   "metadata": {},
   "source": [
    "### The for loop"
   ]
  },
  {
   "cell_type": "markdown",
   "metadata": {},
   "source": [
    "Using the for loop, it is possible to iterate over any 'iterable' variable, such as a list or tuple.\n",
    "In each cycle, for loop takes one element from the variable.\n",
    "for i in (iterable variable) :\n",
    "    (do this until every item in the variable is visited)"
   ]
  },
  {
   "cell_type": "code",
   "execution_count": 19,
   "metadata": {},
   "outputs": [
    {
     "name": "stdout",
     "output_type": "stream",
     "text": [
      "Monday\n",
      "Tuesday\n",
      "Wednesday\n",
      "Thursday\n",
      "Friday\n",
      "Saturday\n",
      "Sunday\n"
     ]
    }
   ],
   "source": [
    "days=[\"Monday\",\"Tuesday\",\"Wednesday\",\"Thursday\",\"Friday\",\"Saturday\",\"Sunday\"]\n",
    "for oneDay in days:\n",
    "    print(oneDay)"
   ]
  },
  {
   "cell_type": "markdown",
   "metadata": {},
   "source": [
    "#### Examples:"
   ]
  },
  {
   "cell_type": "code",
   "execution_count": 21,
   "metadata": {},
   "outputs": [
    {
     "name": "stdout",
     "output_type": "stream",
     "text": [
      "1\n",
      "2\n",
      "3\n",
      "4\n",
      "5\n",
      "6\n",
      "7\n",
      "8\n",
      "9\n",
      "10\n",
      "Total= 55\n"
     ]
    }
   ],
   "source": [
    "# Calculate the following: total = 1+2+3+4+.. 10\n",
    "total=0\n",
    "for i in [1,2,3,4,5,6,7,8,9,10] :\n",
    "    total = total + i\n",
    "    print(i)            # This print() is inside the loop, showing the index i in each cycle\n",
    "\n",
    "print(\"Total=\",total)   # indentation goes back to previous level (for's level) \n",
    "                        # indicating print() is not inside the loop\n",
    "\n"
   ]
  },
  {
   "cell_type": "code",
   "execution_count": 22,
   "metadata": {},
   "outputs": [
    {
     "name": "stdout",
     "output_type": "stream",
     "text": [
      "55\n"
     ]
    }
   ],
   "source": [
    "# range() function creates a sequence from a starting value to an ending value \n",
    "# Calculate the following: total = 0+1+2+3+4+.. 10\n",
    "total=0\n",
    "for i in range(11) :       # 11 numbers from 0 to 10\n",
    "    total = total + i\n",
    "\n",
    "print(total)\n"
   ]
  },
  {
   "cell_type": "code",
   "execution_count": 23,
   "metadata": {},
   "outputs": [
    {
     "name": "stdout",
     "output_type": "stream",
     "text": [
      "1875\n"
     ]
    }
   ],
   "source": [
    "# Calculate total of all the odd numbers between 50 and 100\n",
    "total=0\n",
    "for i in range(51,100,2) :       # range(start, stop, step) .. 51+53+55+...\n",
    "    total = total + i\n",
    "\n",
    "print(total)\n"
   ]
  },
  {
   "cell_type": "code",
   "execution_count": null,
   "metadata": {
    "collapsed": true
   },
   "outputs": [],
   "source": [
    "# Your turn:\n",
    "# Calculate total of all the even numbers between 100 and 200\n",
    "\n",
    "\n",
    "\n",
    "\n",
    "\n",
    "# Calculate total = 1/1**2 + 1/2**2 + 1/3**2 + 1/4**2 ...\n",
    "# use this ** operand for raising a number to a power\n",
    "# pi = sqrt(6*total)\n",
    "\n",
    "import math\n",
    "total=0\n",
    "\n",
    "# write the code below\n",
    "\n",
    "\n",
    "\n",
    "# write the code above\n",
    "\n",
    "print(math.sqrt(6*total))\n"
   ]
  },
  {
   "cell_type": "code",
   "execution_count": null,
   "metadata": {
    "collapsed": true
   },
   "outputs": [],
   "source": [
    "# k factorial, k! = 1*2*3*4*...k. \n",
    "# calculate 10!\n",
    "\n",
    "fact = 1\n",
    "for k in range(1,11) :       # 1..10\n",
    "    fact = fact * k\n",
    "    print(k,fact)\n",
    "    \n",
    "\n",
    "\n"
   ]
  },
  {
   "cell_type": "markdown",
   "metadata": {},
   "source": [
    "### User defined functions"
   ]
  },
  {
   "cell_type": "code",
   "execution_count": 24,
   "metadata": {},
   "outputs": [
    {
     "ename": "SyntaxError",
     "evalue": "invalid syntax (<ipython-input-24-9a07c6123715>, line 1)",
     "output_type": "error",
     "traceback": [
      "\u001b[1;36m  File \u001b[1;32m\"<ipython-input-24-9a07c6123715>\"\u001b[1;36m, line \u001b[1;32m1\u001b[0m\n\u001b[1;33m    Just like built-in Python functions, you can also write your own functions and call them anytime you need them\u001b[0m\n\u001b[1;37m            ^\u001b[0m\n\u001b[1;31mSyntaxError\u001b[0m\u001b[1;31m:\u001b[0m invalid syntax\n"
     ]
    }
   ],
   "source": [
    "Just like built-in Python functions, you can also write your own functions and call them anytime you need them\n",
    "def myFunction(function's input parameters):\n",
    "    (code block)\n",
    "    return(value)\n"
   ]
  },
  {
   "cell_type": "code",
   "execution_count": 15,
   "metadata": {},
   "outputs": [
    {
     "name": "stdout",
     "output_type": "stream",
     "text": [
      "780\n",
      "44850\n"
     ]
    }
   ],
   "source": [
    "# function to add all positive integers up to X, such as 0+1+2+3 .. X\n",
    "def addIntegers(x):\n",
    "    \n",
    "    total=0\n",
    "    for i in range(x) :       # numbers from 0 to x\n",
    "        total = total + i\n",
    "        \n",
    "    return(total)             # return is outside of the for loop. \n",
    "                              # meaning, when loop is complete the resulting total is returned\n",
    "\n",
    "##### main program level ####                              \n",
    "\n",
    "print(addIntegers(40))\n",
    "print(addIntegers(300))\n",
    "\n",
    "\n",
    "\n"
   ]
  },
  {
   "cell_type": "code",
   "execution_count": 25,
   "metadata": {},
   "outputs": [
    {
     "name": "stdout",
     "output_type": "stream",
     "text": [
      "2.5\n",
      "2.6666666666666665\n",
      "2.708333333333333\n",
      "2.7166666666666663\n",
      "2.7180555555555554\n",
      "2.7182539682539684\n",
      "2.71827876984127\n",
      "2.7182815255731922\n"
     ]
    }
   ],
   "source": [
    "# Euler constant e=2.71828..\n",
    "# e = 2 + 1/fact(2) + 1/fact(3) + 1/fact(4) + ... 1/fact(max)\n",
    "# more info: https://en.wikipedia.org/wiki/E_(mathematical_constant)\n",
    "# can you write the code to calculate e value ?\n",
    "# Hint: you need to write factorial function first !\n",
    "\n",
    "def fact(x):\n",
    "    t = 1\n",
    "    for k in range(1,x+1) :       # x+1 because to get x!, the loop must go up to x+1 (x+1 not included)\n",
    "        t = t * k\n",
    "    return(t)\n",
    "        \n",
    "#### main #####\n",
    "e=2\n",
    "max=10\n",
    "for k in range(2, max):\n",
    "    e = e + 1/fact(k)\n",
    "    print(e)\n",
    "\n",
    "\n",
    "\n",
    "\n"
   ]
  },
  {
   "cell_type": "code",
   "execution_count": 26,
   "metadata": {},
   "outputs": [
    {
     "name": "stdout",
     "output_type": "stream",
     "text": [
      "There\n",
      "are\n",
      "only\n",
      "two\n",
      "ways\n",
      "to\n",
      "live\n",
      "your\n",
      "life.\n",
      "One\n",
      "is\n",
      "as\n",
      "though\n",
      "nothing\n",
      "is\n",
      "a\n",
      "miracle.\n",
      "The\n",
      "other\n",
      "is\n",
      "as\n",
      "though\n",
      "everything\n",
      "is\n",
      "a\n",
      "miracle.\n",
      "Albert\n",
      "Einstein\n",
      "There,are,only,two,ways,to,live,your,life.,One,is,as,though,nothing,is,a,miracle.,The,other,is,as,though,everything,is,a,miracle.,Albert,Einstein,\n"
     ]
    }
   ],
   "source": [
    "# parsing words in a sentence\n",
    "quote = \"There are only two ways to live your life. One is as though nothing is a miracle. The other is as though everything is a miracle. Albert Einstein\"\n",
    "for word in quote.split() :      # each string object is a member of a String class, which includes many useful string functions \n",
    "    print(word)                  # accessible by varriableName.functionName(). For example, split() seperates each word by space\n",
    "\n",
    "CSV=\"\"                           # comma seperated values (CSV)\n",
    "for word in quote.split() :      \n",
    "    CSV = CSV + word + \",\"       # Reconstruct the quote, words seperated by commas. Concatenate two strings by '+'.\n",
    "\n",
    "print(CSV)\n",
    "\n"
   ]
  },
  {
   "cell_type": "markdown",
   "metadata": {},
   "source": [
    "### File objects"
   ]
  },
  {
   "cell_type": "code",
   "execution_count": 30,
   "metadata": {},
   "outputs": [
    {
     "name": "stdout",
     "output_type": "stream",
     "text": [
      "/home/aozkul\n",
      "0 1 2 \n",
      "\n",
      "3 4 5 \n",
      "\n",
      "6 7 8 \n",
      "\n",
      "9 10 11 \n",
      "\n",
      "12 13 14 \n",
      "\n"
     ]
    }
   ],
   "source": [
    "# Create a text file and write to it\n",
    "\n",
    "import os              # We need to use os package to get the current working directory\n",
    "print(os.getcwd())     # getcwd(): get current working directory\n",
    "\n",
    "f = open(\"mydata.csv\", \"w\")    # create a CSV text file in the current directory for write\n",
    "\n",
    "num = 0\n",
    "for k in range(5):               # 5 rows\n",
    "        for m in range(3):       # 3 columns\n",
    "            f.write(str(num) + ' ')    # num values 0, 1, 2,.. converted to STRing (ie. characters), seperated by space\n",
    "            num = num + 1              # write it to the file\n",
    "            \n",
    "        f.write(\"\\n\")            # at the end of each row, insert a newline (i.e. new row) = \"\\n\"\n",
    "\n",
    "f.close()                        # end of the loop ! close the file\n",
    "\n",
    "f = open(\"mydata.csv\")    # open the same text file in the current directory to see what's inside\n",
    "\n",
    "for k in range(5):        # read 5 rows (i.e. lines) one by one\n",
    "\n",
    "        aRow = f.readline()        # read the entire row\n",
    "        print(aRow)\n",
    "\n",
    "f.close()\n",
    "        "
   ]
  },
  {
   "cell_type": "markdown",
   "metadata": {},
   "source": [
    "### Classes in Python"
   ]
  },
  {
   "cell_type": "markdown",
   "metadata": {},
   "source": [
    "Python is an object oriented programming language. A class is a template, a definition of an object. Based on this template,\n",
    "instances (=variables) are created. We could consider a class instance as a composite variable which includes not only \n",
    "data variables such as integers, floats, strings, lists, but also functions to act on this data. It is a package comprised\n",
    "of data and functions. "
   ]
  },
  {
   "cell_type": "code",
   "execution_count": 32,
   "metadata": {},
   "outputs": [
    {
     "name": "stdout",
     "output_type": "stream",
     "text": [
      "Toyota Sienna 2011\n",
      "Ferrari 488 GTB 2018\n",
      "********\n",
      "Ford Model-T 1908\n",
      "Ford Model-T 1908\n",
      "********\n",
      "Toyota Sienna 2011\n",
      "Ford Model-T 1908\n"
     ]
    }
   ],
   "source": [
    "# Class definition\n",
    "class Car:\n",
    "    cModel = \"Ford\"            # by default, this information will be included with every instance of the Car class\n",
    "    cMake = \"Model-T\"          # class' own variables that are shared by each member (i.e. instance)\n",
    "    cYear = 1908               # father of the mass produced cars\n",
    "\n",
    "    def __init__(self, mod, mak, yr):    # when we create an instance of this class, these parameters will be transmitted\n",
    "        self.model= mod                       # to the instance. Self here means belonging to each specific instance\n",
    "        self.make=mak\n",
    "        self.year=yr\n",
    "\n",
    "    def showMyCar(self):                            # Class functions that have no parameters (other than self)\n",
    "        print(self.model,self.make,self.year)\n",
    "\n",
    "    def showGrandPasCar(self):\n",
    "        print(self.cModel, self.cMake, self.cYear)\n",
    "\n",
    "#### main #####\n",
    "\n",
    "myCar = Car(\"Toyota\",\"Sienna\",2011)        # create new instances\n",
    "yourCar = Car(\"Ferrari\",\"488 GTB\",2018)\n",
    "\n",
    "# Access to instance's data\n",
    "print(myCar.model,myCar.make,myCar.year)                # mycar and yourcar have different instance info\n",
    "print(yourCar.model,yourCar.make,yourCar.year)\n",
    "print(\"********\")\n",
    "print(myCar.cModel,myCar.cMake,myCar.cYear)              # mycar and yourcar has the same class info, i.e. \"grandpas\" car\n",
    "print(yourCar.cModel,yourCar.cMake,yourCar.cYear)\n",
    "print(\"********\")\n",
    "# Access to instance's functions\n",
    "myCar.showMyCar()                                         # you can use class functions \n",
    "myCar.showGrandPasCar()\n",
    "    "
   ]
  },
  {
   "cell_type": "code",
   "execution_count": null,
   "metadata": {
    "collapsed": true
   },
   "outputs": [],
   "source": []
  }
 ],
 "metadata": {
  "kernelspec": {
   "display_name": "Python 3",
   "language": "python",
   "name": "python3"
  },
  "language_info": {
   "codemirror_mode": {
    "name": "ipython",
    "version": 3
   },
   "file_extension": ".py",
   "mimetype": "text/x-python",
   "name": "python",
   "nbconvert_exporter": "python",
   "pygments_lexer": "ipython3",
   "version": "3.7.4"
  }
 },
 "nbformat": 4,
 "nbformat_minor": 2
}
